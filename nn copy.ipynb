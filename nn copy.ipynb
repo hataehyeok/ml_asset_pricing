{
 "cells": [
  {
   "cell_type": "code",
   "execution_count": 26,
   "metadata": {},
   "outputs": [],
   "source": [
    "import torch\n",
    "import torch.nn as nn\n",
    "import torch.optim as optim\n",
    "import numpy as np\n",
    "from sklearn.metrics import r2_score\n",
    "from data_utils import load_info, create_dataloaders, load_preprocessed_data"
   ]
  },
  {
   "cell_type": "code",
   "execution_count": 27,
   "metadata": {},
   "outputs": [],
   "source": [
    "class NeuralNetwork(nn.Module):\n",
    "    def __init__(self, input_dim, hidden_layers, output_dim, dropout_prob=0.5):\n",
    "        super(NeuralNetwork, self).__init__()\n",
    "        layers = []\n",
    "        prev_dim = input_dim\n",
    "        for hidden_dim in hidden_layers:\n",
    "            layers.append(nn.Linear(prev_dim, hidden_dim))\n",
    "            layers.append(nn.BatchNorm1d(hidden_dim))\n",
    "            layers.append(nn.LeakyReLU(negative_slope=0.01))\n",
    "            layers.append(nn.Dropout(dropout_prob))\n",
    "            prev_dim = hidden_dim\n",
    "        layers.append(nn.Linear(prev_dim, output_dim))\n",
    "        self.network = nn.Sequential(*layers)\n",
    "        self._initialize_weights()\n",
    "\n",
    "    def forward(self, x):\n",
    "        return self.network(x)\n",
    "    \n",
    "    def _initialize_weights(self):\n",
    "        for m in self.modules():\n",
    "            if isinstance(m, nn.Linear):\n",
    "                nn.init.kaiming_normal_(m.weight, mode='fan_in', nonlinearity='leaky_relu')\n",
    "                if m.bias is not None:\n",
    "                    nn.init.constant_(m.bias, 0)"
   ]
  },
  {
   "cell_type": "code",
   "execution_count": 28,
   "metadata": {},
   "outputs": [],
   "source": [
    "def l1_regularization(model, l1_lambda):\n",
    "    l1_norm = sum(p.abs().sum() for p in model.parameters())\n",
    "    return l1_lambda * l1_norm\n",
    "\n",
    "def train(model, train_loader, valid_loader, criterion, optimizer, epochs, patience, l1_lambda):\n",
    "    best_loss = float('inf')\n",
    "    patience_counter = 0\n",
    "    \n",
    "    for epoch in range(epochs):\n",
    "        model.train()\n",
    "        train_loss = 0.0\n",
    "        for inputs, targets in train_loader:\n",
    "            inputs, targets = inputs.float(), targets.float()\n",
    "            optimizer.zero_grad()\n",
    "            outputs = model(inputs)\n",
    "            loss = criterion(outputs, targets) + l1_regularization(model, l1_lambda)\n",
    "            loss.backward()\n",
    "            optimizer.step()\n",
    "            train_loss += loss.item() * inputs.size(0)\n",
    "\n",
    "            # print(f'Epoch {epoch+1}, Train Batch Loss: {loss.item()}')\n",
    "\n",
    "            # for name, param in model.named_parameters():\n",
    "            #     if param.grad is not None:\n",
    "            #         print(f'Epoch {epoch+1}, Parameter {name} Gradient: {param.grad}')\n",
    "        \n",
    "        train_loss /= len(train_loader.dataset)\n",
    "        \n",
    "        model.eval()\n",
    "        val_loss = 0.0\n",
    "        with torch.no_grad():\n",
    "            for inputs, targets in valid_loader:\n",
    "                inputs, targets = inputs.float(), targets.float()\n",
    "                outputs = model(inputs)\n",
    "                loss = criterion(outputs, targets)\n",
    "                val_loss += loss.item() * inputs.size(0)\n",
    "        \n",
    "        val_loss /= len(valid_loader.dataset)\n",
    "        \n",
    "        print(f'Epoch {epoch+1}/{epochs}, Train Loss: {train_loss:.6f}, Val Loss: {val_loss:.6f}')\n",
    "        \n",
    "        if val_loss < best_loss:\n",
    "            best_loss = val_loss\n",
    "            patience_counter = 0\n",
    "        else:\n",
    "            patience_counter += 1\n",
    "        \n",
    "        if patience_counter >= patience:\n",
    "            print(\"Early stopping triggered\")\n",
    "            break\n",
    "\n",
    "def test(model, test_loader):\n",
    "    model.eval()\n",
    "    targets_list = []\n",
    "    outputs_list = []\n",
    "\n",
    "    with torch.no_grad():\n",
    "        for inputs, targets in test_loader:\n",
    "            inputs, targets = inputs.float(), targets.float()\n",
    "            outputs = model(inputs)\n",
    "            \n",
    "            targets_list.append(targets.numpy())\n",
    "            outputs_list.append(outputs.numpy())\n",
    "\n",
    "    outputs_list = np.concatenate(outputs_list)\n",
    "    targets_list = np.concatenate(targets_list)\n",
    "\n",
    "    r2 = r2_score(targets_list, outputs_list)\n",
    "    print(f'R² score: {r2}\\n\\n')"
   ]
  },
  {
   "cell_type": "code",
   "execution_count": 29,
   "metadata": {},
   "outputs": [],
   "source": [
    "input_data, target_data = load_preprocessed_data()\n",
    "firm_info, _ = load_info()\n",
    "train_loader, valid_loader, test_loader, _ = create_dataloaders(\n",
    "    input_data, target_data, firm_info,\n",
    "    train_date='2005-01-01', valid_date='2010-01-01', test_date='2015-11-01', batch_size=4000)"
   ]
  },
  {
   "cell_type": "code",
   "execution_count": 30,
   "metadata": {},
   "outputs": [
    {
     "name": "stdout",
     "output_type": "stream",
     "text": [
      "Input data shape: (576574, 252)\n",
      "Target data shape: (576574, 3)\n",
      "Train loader length: 57\n",
      "Valid loader length: 26\n",
      "Test loader length: 29\n",
      "Train loader: Batch size = 4000, Features = torch.Size([250])\n",
      "Valid loader: Batch size = 4000, Features = torch.Size([250])\n",
      "Test loader: Batch size = 4000, Features = torch.Size([250])\n"
     ]
    }
   ],
   "source": [
    "print(f'Input data shape: {input_data.shape}')\n",
    "print(f'Target data shape: {target_data.shape}')\n",
    "print(f'Train loader length: {len(train_loader)}')\n",
    "print(f'Valid loader length: {len(valid_loader)}')\n",
    "print(f'Test loader length: {len(test_loader)}')\n",
    "\n",
    "first_batch = next(iter(train_loader))\n",
    "first_batch = next(iter(valid_loader))\n",
    "first_batch = next(iter(test_loader))\n",
    "\n",
    "print(f\"Train loader: Batch size = {len(first_batch[0])}, Features = {first_batch[0][0].shape}\")\n",
    "print(f\"Valid loader: Batch size = {len(first_batch[0])}, Features = {first_batch[0][0].shape}\")\n",
    "print(f\"Test loader: Batch size = {len(first_batch[0])}, Features = {first_batch[0][0].shape}\")"
   ]
  },
  {
   "cell_type": "code",
   "execution_count": 31,
   "metadata": {},
   "outputs": [],
   "source": [
    "# Hyperparameters setting\n",
    "# input_dim = input_data.shape[1] - 2\n",
    "# hidden_layers_list = [[128, 64, 32], [64, 32, 16], [32, 16, 8], [128, 64], [64, 32], [32, 16], [16, 8], [128], [64], [32], [16], [8]]\n",
    "# output_dim = 1\n",
    "# learning_rates = [0.01, 0.001]\n",
    "# epochs = 100\n",
    "# patience = 10\n",
    "# l1_lambdas = [1e-5, 1e-3]\n",
    "\n",
    "input_dim = input_data.shape[1] - 2\n",
    "hidden_layers_list = [[128, 64, 32], [32, 16, 8], [128, 64], [64, 32], [32, 16], [16, 8]]\n",
    "output_dim = 1\n",
    "learning_rates = [0.01]\n",
    "epochs = 100\n",
    "patience = 10\n",
    "l1_lambdas = [1e-3]"
   ]
  },
  {
   "cell_type": "code",
   "execution_count": 32,
   "metadata": {},
   "outputs": [
    {
     "name": "stdout",
     "output_type": "stream",
     "text": [
      "Training with hidden_layers=[128, 64, 32], learning_rate=0.01, l1_lambda=0.001\n",
      "\n",
      "Epoch 1/100, Train Loss: 2.122355, Val Loss: 0.025136\n",
      "Epoch 2/100, Train Loss: 0.421232, Val Loss: 0.025089\n",
      "Epoch 3/100, Train Loss: 0.235852, Val Loss: 0.025001\n",
      "Epoch 4/100, Train Loss: 0.153862, Val Loss: 0.025029\n",
      "Epoch 5/100, Train Loss: 0.112986, Val Loss: 0.025044\n",
      "Epoch 6/100, Train Loss: 0.097277, Val Loss: 0.025001\n",
      "Epoch 7/100, Train Loss: 0.090628, Val Loss: 0.025001\n",
      "Epoch 8/100, Train Loss: 0.090284, Val Loss: 0.025002\n"
     ]
    }
   ],
   "source": [
    "for hidden_layers in hidden_layers_list:\n",
    "    for learning_rate in learning_rates:\n",
    "        for l1_lambda in l1_lambdas:\n",
    "            print(f\"Training with hidden_layers={hidden_layers}, learning_rate={learning_rate}, l1_lambda={l1_lambda}\\n\")\n",
    "            model = NeuralNetwork(input_dim, hidden_layers, output_dim, dropout_prob=0.5)\n",
    "            criterion = nn.MSELoss()\n",
    "            optimizer = optim.Adam(model.parameters(), lr=learning_rate)\n",
    "\n",
    "            train(model, train_loader, valid_loader, criterion, optimizer, epochs, patience, l1_lambda)\n",
    "            test(model, test_loader)"
   ]
  }
 ],
 "metadata": {
  "kernelspec": {
   "display_name": "ml_asset",
   "language": "python",
   "name": "python3"
  },
  "language_info": {
   "codemirror_mode": {
    "name": "ipython",
    "version": 3
   },
   "file_extension": ".py",
   "mimetype": "text/x-python",
   "name": "python",
   "nbconvert_exporter": "python",
   "pygments_lexer": "ipython3",
   "version": "3.12.3"
  }
 },
 "nbformat": 4,
 "nbformat_minor": 2
}
