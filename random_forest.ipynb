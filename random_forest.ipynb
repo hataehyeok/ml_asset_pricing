{
 "cells": [
  {
   "cell_type": "code",
   "execution_count": 18,
   "metadata": {},
   "outputs": [],
   "source": [
    "import numpy as np\n",
    "from sklearn.ensemble import RandomForestRegressor\n",
    "from sklearn.metrics import r2_score\n",
    "from data_utils import load_info, create_dataloaders, load_preprocessed_data"
   ]
  },
  {
   "cell_type": "code",
   "execution_count": 19,
   "metadata": {},
   "outputs": [],
   "source": [
    "def extract_data_from_loader(data_loader):\n",
    "    inputs, targets = [], []\n",
    "    for batch_inputs, batch_targets in data_loader:\n",
    "        inputs.append(batch_inputs.numpy())\n",
    "        targets.append(batch_targets.numpy())\n",
    "    inputs = np.vstack(inputs)\n",
    "    targets = np.concatenate(targets)\n",
    "    return inputs, targets"
   ]
  },
  {
   "cell_type": "code",
   "execution_count": 20,
   "metadata": {},
   "outputs": [],
   "source": [
    "input_data, target_data = load_preprocessed_data()\n",
    "firm_info, _ = load_info()\n",
    "train_loader, valid_loader, test_loader, _ = create_dataloaders(\n",
    "    input_data, target_data, firm_info,\n",
    "    train_date='2008-01-01', valid_date='2017-01-01', test_date='2023-01-01', batch_size=3000)\n",
    "\n"
   ]
  },
  {
   "cell_type": "code",
   "execution_count": 21,
   "metadata": {},
   "outputs": [
    {
     "name": "stdout",
     "output_type": "stream",
     "text": [
      "(576574, 252) (576574, 3)\n",
      "97 58 32\n",
      "Train loader: Batch size = 3000, Features = torch.Size([250])\n",
      "Valid loader: Batch size = 3000, Features = torch.Size([250])\n",
      "Test loader: Batch size = 3000, Features = torch.Size([250])\n"
     ]
    }
   ],
   "source": [
    "print(input_data.shape, target_data.shape)\n",
    "print(len(train_loader), len(valid_loader), len(test_loader))\n",
    "\n",
    "first_batch = next(iter(train_loader))\n",
    "first_batch = next(iter(valid_loader))\n",
    "first_batch = next(iter(test_loader))\n",
    "\n",
    "print(f\"Train loader: Batch size = {len(first_batch[0])}, Features = {first_batch[0][0].shape}\")\n",
    "print(f\"Valid loader: Batch size = {len(first_batch[0])}, Features = {first_batch[0][0].shape}\")\n",
    "print(f\"Test loader: Batch size = {len(first_batch[0])}, Features = {first_batch[0][0].shape}\")"
   ]
  },
  {
   "cell_type": "code",
   "execution_count": null,
   "metadata": {},
   "outputs": [],
   "source": [
    "x_train, y_train = extract_data_from_loader(train_loader)\n",
    "x_valid, y_valid = extract_data_from_loader(valid_loader)\n",
    "x_test, y_test = extract_data_from_loader(test_loader)\n",
    "\n",
    "max_depth_list = [3, 4, 5, 6, 7, 9, 11]\n",
    "max_features_list = [5, 10, 15, 20, 30, 40, 50]\n",
    "\n",
    "for max_depth in max_depth_list:\n",
    "    for max_features in max_features_list:\n",
    "        print(f\"n_estimators = {300}, max_depth = {max_depth}, max_features = {max_features}\")\n",
    "        model = RandomForestRegressor(\n",
    "            n_estimators=300,\n",
    "            max_depth=max_depth,\n",
    "            max_features=max_features,\n",
    "            random_state=0,\n",
    "            n_jobs=8,\n",
    "        )\n",
    "        model.fit(x_train, y_train)\n",
    "        test_r2 = r2_score(y_test, model.predict(x_test))\n",
    "        print(f\"Model Test R2_score: {test_r2}\")\n",
    "        print()\n"
   ]
  }
 ],
 "metadata": {
  "kernelspec": {
   "display_name": "ml_asset",
   "language": "python",
   "name": "python3"
  },
  "language_info": {
   "codemirror_mode": {
    "name": "ipython",
    "version": 3
   },
   "file_extension": ".py",
   "mimetype": "text/x-python",
   "name": "python",
   "nbconvert_exporter": "python",
   "pygments_lexer": "ipython3",
   "version": "3.12.3"
  }
 },
 "nbformat": 4,
 "nbformat_minor": 2
}
