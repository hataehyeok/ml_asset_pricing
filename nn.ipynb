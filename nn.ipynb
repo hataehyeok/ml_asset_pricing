{
 "cells": [
  {
   "cell_type": "code",
   "execution_count": 110,
   "metadata": {},
   "outputs": [],
   "source": [
    "import torch\n",
    "import torch.nn as nn\n",
    "import torch.optim as optim\n",
    "import numpy as np\n",
    "from sklearn.metrics import r2_score\n",
    "from data_utils import load_info, create_dataloaders, load_preprocessed_data"
   ]
  },
  {
   "cell_type": "code",
   "execution_count": 111,
   "metadata": {},
   "outputs": [],
   "source": [
    "class NeuralNetwork(nn.Module):\n",
    "    def __init__(self, input_dim, hidden_layers, output_dim):\n",
    "        super(NeuralNetwork, self).__init__()\n",
    "        layers = []\n",
    "        prev_dim = input_dim\n",
    "        for hidden_dim in hidden_layers:\n",
    "            layers.append(nn.Linear(prev_dim, hidden_dim))\n",
    "            layers.append(nn.LeakyReLU(negative_slope=0.01))\n",
    "            prev_dim = hidden_dim\n",
    "        layers.append(nn.Linear(prev_dim, output_dim))\n",
    "        self.network = nn.Sequential(*layers)\n",
    "\n",
    "    def forward(self, x):\n",
    "        return self.network(x)"
   ]
  },
  {
   "cell_type": "code",
   "execution_count": 112,
   "metadata": {},
   "outputs": [],
   "source": [
    "def l1_regularization(model, l1_lambda):\n",
    "    l1_norm = sum(p.abs().sum() for p in model.parameters())\n",
    "    return l1_lambda * l1_norm\n",
    "\n",
    "def train(model, train_loader, valid_loader, criterion, optimizer, epochs, patience, l1_lambda, best_loss, patience_counter):\n",
    "    for epoch in range(epochs):\n",
    "        model.train()\n",
    "        train_loss = 0.0\n",
    "        for inputs, targets in train_loader:\n",
    "            inputs, targets = inputs.float(), targets.float()\n",
    "            optimizer.zero_grad()\n",
    "            outputs = model(inputs)\n",
    "            loss = criterion(outputs, targets) + l1_regularization(model, l1_lambda)\n",
    "            loss.backward()\n",
    "            optimizer.step()\n",
    "            train_loss += loss.item() * inputs.size(0)\n",
    "        \n",
    "        train_loss /= len(train_loader.dataset)\n",
    "        \n",
    "        model.eval()\n",
    "        val_loss = 0.0\n",
    "        with torch.no_grad():\n",
    "            for inputs, targets in valid_loader:\n",
    "                inputs, targets = inputs.float(), targets.float()\n",
    "                outputs = model(inputs)\n",
    "                loss = criterion(outputs, targets)\n",
    "                val_loss += loss.item() * inputs.size(0)\n",
    "        \n",
    "        val_loss /= len(valid_loader.dataset)\n",
    "        \n",
    "        print(f'Epoch {epoch+1}/{epochs}, Train Loss: {train_loss:.6f}, Val Loss: {val_loss:.6f}')\n",
    "        \n",
    "        \n",
    "        if val_loss < best_loss:\n",
    "            best_loss = val_loss\n",
    "            patience_counter = 0\n",
    "        else:\n",
    "            patience_counter += 1\n",
    "        \n",
    "        if patience_counter >= patience:\n",
    "            print(\"Early stopping triggered\")\n",
    "            break\n",
    "\n",
    "def test(model, test_loader):\n",
    "    model.eval()\n",
    "    targets_list = []\n",
    "    outputs_list = []\n",
    "\n",
    "    with torch.no_grad():\n",
    "        for inputs, targets in test_loader:\n",
    "            inputs, targets = inputs.float(), targets.float()\n",
    "            outputs = model(inputs)\n",
    "            \n",
    "            targets_list.append(targets.numpy())\n",
    "            outputs_list.append(outputs.numpy())\n",
    "\n",
    "    outputs_list = np.concatenate(outputs_list)\n",
    "    targets_list = np.concatenate(targets_list)\n",
    "\n",
    "    r2 = r2_score(targets_list, outputs_list)\n",
    "    print(f'R² score: {r2}')"
   ]
  },
  {
   "cell_type": "code",
   "execution_count": 113,
   "metadata": {},
   "outputs": [],
   "source": [
    "input_data, target_data = load_preprocessed_data()\n",
    "firm_info, _ = load_info()\n",
    "train_loader, valid_loader, test_loader, _ = create_dataloaders(\n",
    "    input_data, target_data, firm_info,\n",
    "    train_date='2005-01-01', valid_date='2010-01-01', test_date='2015-11-01', batch_size=2000)"
   ]
  },
  {
   "cell_type": "code",
   "execution_count": null,
   "metadata": {},
   "outputs": [
    {
     "name": "stdout",
     "output_type": "stream",
     "text": [
      "Input data shape is(576574, 252)\n",
      "Target data shape: (576574, 3)\n",
      "Train loader length: 114\n",
      "Valid loader length: 52\n",
      "Test loader length: 57\n",
      "Train loader: Batch size = 2000, Features = torch.Size([250])\n",
      "Valid loader: Batch size = 2000, Features = torch.Size([250])\n",
      "Test loader: Batch size = 2000, Features = torch.Size([250])\n"
     ]
    }
   ],
   "source": [
    "print(f'Input data shape is{input_data.shape}')\n",
    "print(f'Target data shape: {target_data.shape}')\n",
    "print(f'Train loader length: {len(train_loader)}')\n",
    "print(f'Valid loader length: {len(valid_loader)}')\n",
    "print(f'Test loader length: {len(test_loader)}')\n",
    "\n",
    "first_batch = next(iter(train_loader))\n",
    "first_batch = next(iter(valid_loader))\n",
    "first_batch = next(iter(test_loader))\n",
    "\n",
    "print(f\"Train loader: Batch size = {len(first_batch[0])}, Features = {first_batch[0][0].shape}\")\n",
    "print(f\"Valid loader: Batch size = {len(first_batch[0])}, Features = {first_batch[0][0].shape}\")\n",
    "print(f\"Test loader: Batch size = {len(first_batch[0])}, Features = {first_batch[0][0].shape}\")"
   ]
  },
  {
   "cell_type": "code",
   "execution_count": null,
   "metadata": {},
   "outputs": [],
   "source": [
    "# Hyperparameters setting\n",
    "input_dim = input_data.shape[1] - 2\n",
    "hidden_layers = [64, 32, 16]\n",
    "output_dim = 1\n",
    "learning_rate = 0.001\n",
    "epochs = 100\n",
    "patience = 10\n",
    "l1_lambda = 1e-5\n",
    "\n",
    "model = NeuralNetwork(input_dim, hidden_layers, output_dim)\n",
    "criterion = nn.MSELoss()\n",
    "optimizer = optim.Adam(model.parameters(), lr=learning_rate)\n",
    "\n",
    "best_loss = float('inf')\n",
    "patience_counter = 0\n",
    "\n",
    "print(model)"
   ]
  },
  {
   "cell_type": "code",
   "execution_count": null,
   "metadata": {},
   "outputs": [
    {
     "name": "stdout",
     "output_type": "stream",
     "text": [
      "Epoch 1/100, Train Loss: 0.045789, Val Loss: 0.027175\n",
      "Epoch 2/100, Train Loss: 0.035119, Val Loss: 0.026410\n",
      "Epoch 3/100, Train Loss: 0.033820, Val Loss: 0.026368\n",
      "Epoch 4/100, Train Loss: 0.032987, Val Loss: 0.026391\n",
      "Epoch 5/100, Train Loss: 0.032398, Val Loss: 0.026532\n",
      "Epoch 6/100, Train Loss: 0.031932, Val Loss: 0.027010\n",
      "Epoch 7/100, Train Loss: 0.031497, Val Loss: 0.028628\n",
      "Epoch 8/100, Train Loss: 0.031085, Val Loss: 0.033909\n",
      "Epoch 9/100, Train Loss: 0.030672, Val Loss: 0.045272\n",
      "Epoch 10/100, Train Loss: 0.030270, Val Loss: 0.049945\n",
      "Epoch 11/100, Train Loss: 0.029884, Val Loss: 0.049412\n",
      "Epoch 12/100, Train Loss: 0.029516, Val Loss: 0.046403\n",
      "Epoch 13/100, Train Loss: 0.029303, Val Loss: 0.043047\n",
      "Early stopping triggered\n"
     ]
    }
   ],
   "source": [
    "train(model, train_loader, valid_loader, criterion, optimizer, epochs, patience, l1_lambda, best_loss, patience_counter)"
   ]
  },
  {
   "cell_type": "code",
   "execution_count": null,
   "metadata": {},
   "outputs": [
    {
     "name": "stdout",
     "output_type": "stream",
     "text": [
      "R² score: -0.12784352900339346\n"
     ]
    }
   ],
   "source": [
    "test(model, test_loader)"
   ]
  }
 ],
 "metadata": {
  "kernelspec": {
   "display_name": "ml_asset",
   "language": "python",
   "name": "python3"
  },
  "language_info": {
   "codemirror_mode": {
    "name": "ipython",
    "version": 3
   },
   "file_extension": ".py",
   "mimetype": "text/x-python",
   "name": "python",
   "nbconvert_exporter": "python",
   "pygments_lexer": "ipython3",
   "version": "3.12.3"
  }
 },
 "nbformat": 4,
 "nbformat_minor": 2
}
