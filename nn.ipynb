{
 "cells": [
  {
   "cell_type": "code",
   "execution_count": 1,
   "metadata": {},
   "outputs": [],
   "source": [
    "import torch\n",
    "import torch.nn as nn\n",
    "import torch.optim as optim\n",
    "import numpy as np\n",
    "import logging\n",
    "\n",
    "from data_utils import load_info, create_dataloaders, load_preprocessed_data\n",
    "\n",
    "logging.basicConfig(filename='model_output.log', level=logging.INFO, format='%(asctime)s - %(message)s')"
   ]
  },
  {
   "cell_type": "code",
   "execution_count": 2,
   "metadata": {},
   "outputs": [],
   "source": [
    "class NeuralNetwork(nn.Module):\n",
    "    def __init__(self, input_dim, hidden_layers, output_dim):\n",
    "        super(NeuralNetwork, self).__init__()\n",
    "        layers = []\n",
    "        prev_dim = input_dim\n",
    "        for hidden_dim in hidden_layers:\n",
    "            layers.append(nn.Linear(prev_dim, hidden_dim))\n",
    "            layers.append(nn.LeakyReLU(negative_slope=0.01))\n",
    "            prev_dim = hidden_dim\n",
    "        layers.append(nn.Linear(prev_dim, output_dim))\n",
    "        self.network = nn.Sequential(*layers)\n",
    "\n",
    "    def forward(self, x):\n",
    "        return self.network(x)"
   ]
  },
  {
   "cell_type": "code",
   "execution_count": 3,
   "metadata": {},
   "outputs": [],
   "source": [
    "def l1_regularization(model, l1_lambda):\n",
    "    l1_norm = sum(p.abs().sum() for p in model.parameters())\n",
    "    return l1_lambda * l1_norm\n",
    "\n",
    "def calculate_r2_oos(predictions, actuals):\n",
    "    numerator = np.sum((actuals - predictions) ** 2)\n",
    "    denominator = np.sum(actuals ** 2)\n",
    "    r2_oos = 1 - (numerator / denominator)\n",
    "    return r2_oos"
   ]
  },
  {
   "cell_type": "code",
   "execution_count": 4,
   "metadata": {},
   "outputs": [],
   "source": [
    "def train(model, train_loader, valid_loader, criterion, optimizer, epochs, patience, l1_lambda, best_loss, patience_counter):\n",
    "    for epoch in range(epochs):\n",
    "        model.train()\n",
    "        train_loss = 0.0\n",
    "\n",
    "        for data, target in train_loader:\n",
    "            data = data.float().requires_grad_()\n",
    "            target = target.float()\n",
    "            optimizer.zero_grad()\n",
    "            output = model(data)\n",
    "            loss = criterion(output.squeeze(), target) + l1_regularization(model, l1_lambda)\n",
    "            loss.backward()\n",
    "            optimizer.step()\n",
    "            train_loss += loss.item() * data.size(0)\n",
    "        \n",
    "        train_loss /= len(train_loader.dataset)\n",
    "        \n",
    "        model.eval()\n",
    "        val_loss = 0.0\n",
    "        with torch.no_grad():\n",
    "            for data, target in valid_loader:\n",
    "                data = data.float()\n",
    "                target = target.float()\n",
    "                output = model(data)\n",
    "                loss = criterion(output.squeeze(), target)\n",
    "                val_loss += loss.item() * data.size(0)\n",
    "        \n",
    "        val_loss /= len(valid_loader.dataset)\n",
    "        \n",
    "        print(f'Epoch {epoch+1}/{epochs}, Train Loss: {train_loss:.6f}, Val Loss: {val_loss:.6f}')\n",
    "        \n",
    "        # Early stopping\n",
    "        if val_loss < best_loss:\n",
    "            best_loss = val_loss\n",
    "            patience_counter = 0\n",
    "        else:\n",
    "            patience_counter += 1\n",
    "        \n",
    "        if patience_counter >= patience:\n",
    "            print(\"Early stopping triggered\")\n",
    "            break\n",
    "\n",
    "def test(model, test_loader, criterion):\n",
    "    model.eval()\n",
    "    test_loss = 0.0\n",
    "    predictions = []\n",
    "    actuals = []\n",
    "\n",
    "    with torch.no_grad():\n",
    "        for inputs, targets in test_loader:\n",
    "            inputs = inputs.float()\n",
    "            targets = targets.float()\n",
    "            outputs = model(inputs)\n",
    "            # print outputs by logging\n",
    "            logging.info(f'outputs: {outputs}')\n",
    "            loss = criterion(outputs, targets)\n",
    "            test_loss += loss.item() * inputs.size(0)\n",
    "            predictions.append(outputs.numpy())\n",
    "            actuals.append(targets.numpy())\n",
    "\n",
    "    test_loss /= len(test_loader.dataset)\n",
    "    predictions = np.concatenate(predictions, axis=0)\n",
    "    actuals = np.concatenate(actuals, axis=0)\n",
    "\n",
    "    print(f'Test Loss: {test_loss:.4f}')\n",
    "\n",
    "    r2_oos = calculate_r2_oos(predictions, actuals)\n",
    "    print(f'R²_oos: {r2_oos:.4f}')"
   ]
  },
  {
   "cell_type": "code",
   "execution_count": 5,
   "metadata": {},
   "outputs": [
    {
     "name": "stdout",
     "output_type": "stream",
     "text": [
      "(576574, 252) (576574, 3)\n",
      "146 69 72\n"
     ]
    }
   ],
   "source": [
    "input_data, target_data = load_preprocessed_data()\n",
    "print(input_data.shape, target_data.shape)\n",
    "firm_info, _ = load_info()\n",
    "\n",
    "train_loader, valid_loader, test_loader, test_index = create_dataloaders(\n",
    "    input_data, target_data, firm_info,\n",
    "    train_date='2008-01-01', valid_date='2015-01-01', test_date='2023-11-01', batch_size=2000)\n",
    "\n",
    "print(len(train_loader), len(valid_loader), len(test_loader))"
   ]
  },
  {
   "cell_type": "code",
   "execution_count": 6,
   "metadata": {},
   "outputs": [],
   "source": [
    "# Hyperparameters setting\n",
    "input_dim = input_data.shape[1] - 2\n",
    "output_dim = 1\n",
    "learning_rate = 0.001\n",
    "epochs = 100\n",
    "patience = 5\n",
    "l1_lambda = 1e-5\n",
    "\n",
    "model = NeuralNetwork(input_dim, [64, 32], output_dim)\n",
    "criterion = nn.MSELoss()\n",
    "optimizer = optim.Adam(model.parameters(), lr=learning_rate)\n",
    "\n",
    "# Early stopping\n",
    "best_loss = float('inf')\n",
    "patience_counter = 0"
   ]
  },
  {
   "cell_type": "code",
   "execution_count": 7,
   "metadata": {},
   "outputs": [
    {
     "name": "stdout",
     "output_type": "stream",
     "text": [
      "Epoch 1/100, Train Loss: 0.027559, Val Loss: 0.024108\n",
      "Epoch 2/100, Train Loss: 0.025437, Val Loss: 0.024099\n",
      "Epoch 3/100, Train Loss: 0.025269, Val Loss: 0.024098\n",
      "Epoch 4/100, Train Loss: 0.025225, Val Loss: 0.024098\n",
      "Epoch 5/100, Train Loss: 0.025206, Val Loss: 0.024096\n",
      "Epoch 6/100, Train Loss: 0.025197, Val Loss: 0.024098\n",
      "Epoch 7/100, Train Loss: 0.025191, Val Loss: 0.024099\n",
      "Epoch 8/100, Train Loss: 0.025187, Val Loss: 0.024101\n",
      "Epoch 9/100, Train Loss: 0.025185, Val Loss: 0.024102\n",
      "Epoch 10/100, Train Loss: 0.025183, Val Loss: 0.024103\n",
      "Early stopping triggered\n",
      "Test Loss: 0.0199\n",
      "R²_oos: -0.0004\n"
     ]
    }
   ],
   "source": [
    "train(model, train_loader, valid_loader, criterion, optimizer, epochs, patience, l1_lambda, best_loss, patience_counter)\n",
    "test(model, test_loader, criterion)"
   ]
  }
 ],
 "metadata": {
  "kernelspec": {
   "display_name": "ml_asset",
   "language": "python",
   "name": "python3"
  },
  "language_info": {
   "codemirror_mode": {
    "name": "ipython",
    "version": 3
   },
   "file_extension": ".py",
   "mimetype": "text/x-python",
   "name": "python",
   "nbconvert_exporter": "python",
   "pygments_lexer": "ipython3",
   "version": "3.12.3"
  }
 },
 "nbformat": 4,
 "nbformat_minor": 2
}
