{
 "cells": [
  {
   "cell_type": "code",
   "execution_count": 18,
   "metadata": {},
   "outputs": [],
   "source": [
    "import torch\n",
    "import torch.nn as nn\n",
    "import torch.optim as optim\n",
    "import numpy as np\n",
    "from sklearn.metrics import r2_score\n",
    "import logging\n",
    "from data_utils import load_info, create_dataloaders, load_preprocessed_data\n",
    "\n",
    "logging.basicConfig(filename='model_output.log', level=logging.INFO, format='%(asctime)s - %(message)s')"
   ]
  },
  {
   "cell_type": "code",
   "execution_count": 19,
   "metadata": {},
   "outputs": [],
   "source": [
    "class NeuralNetwork(nn.Module):\n",
    "    def __init__(self, input_dim, hidden_layers, output_dim):\n",
    "        super(NeuralNetwork, self).__init__()\n",
    "        layers = []\n",
    "        prev_dim = input_dim\n",
    "        for hidden_dim in hidden_layers:\n",
    "            layers.append(nn.Linear(prev_dim, hidden_dim))\n",
    "            layers.append(nn.LeakyReLU(negative_slope=0.01))\n",
    "            prev_dim = hidden_dim\n",
    "        layers.append(nn.Linear(prev_dim, output_dim))\n",
    "        self.network = nn.Sequential(*layers)\n",
    "\n",
    "    def forward(self, x):\n",
    "        return self.network(x)"
   ]
  },
  {
   "cell_type": "code",
   "execution_count": 20,
   "metadata": {},
   "outputs": [],
   "source": [
    "def l1_regularization(model, l1_lambda):\n",
    "    l1_norm = sum(p.abs().sum() for p in model.parameters())\n",
    "    return l1_lambda * l1_norm"
   ]
  },
  {
   "cell_type": "code",
   "execution_count": 21,
   "metadata": {},
   "outputs": [],
   "source": [
    "def train(model, train_loader, valid_loader, criterion, optimizer, epochs, patience, l1_lambda, best_loss, patience_counter):\n",
    "    for epoch in range(epochs):\n",
    "        model.train()\n",
    "        train_loss = 0.0\n",
    "\n",
    "        for data, target in train_loader:\n",
    "            data = data.float().requires_grad_()\n",
    "            target = target.float()\n",
    "            optimizer.zero_grad()\n",
    "            output = model(data)\n",
    "            loss = criterion(output.squeeze(), target) + l1_regularization(model, l1_lambda)\n",
    "            loss.backward()\n",
    "            optimizer.step()\n",
    "            train_loss += loss.item() * data.size(0)\n",
    "        \n",
    "        train_loss /= len(train_loader.dataset)\n",
    "        \n",
    "        model.eval()\n",
    "        val_loss = 0.0\n",
    "        with torch.no_grad():\n",
    "            for data, target in valid_loader:\n",
    "                data = data.float()\n",
    "                target = target.float()\n",
    "                output = model(data)\n",
    "                loss = criterion(output.squeeze(), target)\n",
    "                val_loss += loss.item() * data.size(0)\n",
    "        \n",
    "        val_loss /= len(valid_loader.dataset)\n",
    "        \n",
    "        print(f'Epoch {epoch+1}/{epochs}, Train Loss: {train_loss:.6f}, Val Loss: {val_loss:.6f}')\n",
    "        \n",
    "        # Early stopping\n",
    "        if val_loss < best_loss:\n",
    "            best_loss = val_loss\n",
    "            patience_counter = 0\n",
    "        else:\n",
    "            patience_counter += 1\n",
    "        \n",
    "        if patience_counter >= patience:\n",
    "            print(\"Early stopping triggered\")\n",
    "            break"
   ]
  },
  {
   "cell_type": "code",
   "execution_count": 22,
   "metadata": {},
   "outputs": [
    {
     "name": "stdout",
     "output_type": "stream",
     "text": [
      "(576574, 252) (576574, 3)\n",
      "114 52 57\n"
     ]
    }
   ],
   "source": [
    "input_data, target_data = load_preprocessed_data()\n",
    "print(input_data.shape, target_data.shape)\n",
    "firm_info, _ = load_info()\n",
    "\n",
    "train_loader, valid_loader, test_loader, _ = create_dataloaders(\n",
    "    input_data, target_data, firm_info,\n",
    "    train_date='2005-01-01', valid_date='2010-01-01', test_date='2015-11-01', batch_size=2000)\n",
    "\n",
    "print(len(train_loader), len(valid_loader), len(test_loader))"
   ]
  },
  {
   "cell_type": "code",
   "execution_count": 23,
   "metadata": {},
   "outputs": [],
   "source": [
    "# Hyperparameters setting\n",
    "input_dim = input_data.shape[1] - 2\n",
    "output_dim = 1\n",
    "learning_rate = 0.001\n",
    "epochs = 100\n",
    "patience = 5\n",
    "l1_lambda = 1e-5\n",
    "\n",
    "model = NeuralNetwork(input_dim, [64, 32], output_dim)\n",
    "criterion = nn.MSELoss()\n",
    "optimizer = optim.Adam(model.parameters(), lr=learning_rate)\n",
    "\n",
    "best_loss = float('inf')\n",
    "patience_counter = 10"
   ]
  },
  {
   "cell_type": "code",
   "execution_count": 24,
   "metadata": {},
   "outputs": [
    {
     "name": "stdout",
     "output_type": "stream",
     "text": [
      "Epoch 1/100, Train Loss: 0.032803, Val Loss: 0.025236\n",
      "Epoch 2/100, Train Loss: 0.030152, Val Loss: 0.025237\n",
      "Epoch 3/100, Train Loss: 0.029292, Val Loss: 0.025196\n",
      "Epoch 4/100, Train Loss: 0.028904, Val Loss: 0.025231\n",
      "Epoch 5/100, Train Loss: 0.028697, Val Loss: 0.025231\n",
      "Epoch 6/100, Train Loss: 0.028569, Val Loss: 0.025181\n",
      "Epoch 7/100, Train Loss: 0.028477, Val Loss: 0.025154\n",
      "Epoch 8/100, Train Loss: 0.028419, Val Loss: 0.025134\n",
      "Epoch 9/100, Train Loss: 0.028383, Val Loss: 0.025116\n",
      "Epoch 10/100, Train Loss: 0.028357, Val Loss: 0.025056\n",
      "Epoch 11/100, Train Loss: 0.028332, Val Loss: 0.025068\n",
      "Epoch 12/100, Train Loss: 0.028318, Val Loss: 0.025041\n",
      "Epoch 13/100, Train Loss: 0.028304, Val Loss: 0.025036\n",
      "Epoch 14/100, Train Loss: 0.028294, Val Loss: 0.025024\n",
      "Epoch 15/100, Train Loss: 0.028286, Val Loss: 0.025012\n",
      "Epoch 16/100, Train Loss: 0.028281, Val Loss: 0.025008\n",
      "Epoch 17/100, Train Loss: 0.028275, Val Loss: 0.025016\n",
      "Epoch 18/100, Train Loss: 0.028273, Val Loss: 0.025015\n",
      "Epoch 19/100, Train Loss: 0.028270, Val Loss: 0.025004\n",
      "Epoch 20/100, Train Loss: 0.028266, Val Loss: 0.025002\n",
      "Epoch 21/100, Train Loss: 0.028263, Val Loss: 0.025001\n",
      "Epoch 22/100, Train Loss: 0.028260, Val Loss: 0.025001\n",
      "Epoch 23/100, Train Loss: 0.028258, Val Loss: 0.025001\n",
      "Epoch 24/100, Train Loss: 0.028257, Val Loss: 0.025001\n",
      "Epoch 25/100, Train Loss: 0.028256, Val Loss: 0.025001\n",
      "Epoch 26/100, Train Loss: 0.028253, Val Loss: 0.025001\n",
      "Epoch 27/100, Train Loss: 0.028252, Val Loss: 0.025001\n",
      "Epoch 28/100, Train Loss: 0.028253, Val Loss: 0.025001\n",
      "Epoch 29/100, Train Loss: 0.028251, Val Loss: 0.025001\n",
      "Epoch 30/100, Train Loss: 0.028250, Val Loss: 0.025001\n",
      "Epoch 31/100, Train Loss: 0.028251, Val Loss: 0.025001\n",
      "Early stopping triggered\n"
     ]
    }
   ],
   "source": [
    "train(model, train_loader, valid_loader, criterion, optimizer, epochs, patience, l1_lambda, best_loss, patience_counter)"
   ]
  },
  {
   "cell_type": "code",
   "execution_count": 25,
   "metadata": {},
   "outputs": [
    {
     "name": "stdout",
     "output_type": "stream",
     "text": [
      "R² score: -0.016326279921723863\n"
     ]
    }
   ],
   "source": [
    "# model test\n",
    "model.eval()\n",
    "y_pred_list = []\n",
    "y_true_list = []\n",
    "\n",
    "with torch.no_grad():\n",
    "    for X_batch, y_batch in test_loader:\n",
    "        y_pred = model(X_batch.float())\n",
    "        y_pred_list.extend(y_pred.numpy())\n",
    "        y_true_list.extend(y_batch.numpy())\n",
    "\n",
    "y_pred_array = np.array(y_pred_list)\n",
    "y_true_array = np.array(y_true_list)\n",
    "\n",
    "r2 = r2_score(y_true_array, y_pred_array)\n",
    "print(f'R² score: {r2}')"
   ]
  }
 ],
 "metadata": {
  "kernelspec": {
   "display_name": "ml_asset",
   "language": "python",
   "name": "python3"
  },
  "language_info": {
   "codemirror_mode": {
    "name": "ipython",
    "version": 3
   },
   "file_extension": ".py",
   "mimetype": "text/x-python",
   "name": "python",
   "nbconvert_exporter": "python",
   "pygments_lexer": "ipython3",
   "version": "3.1.-1"
  }
 },
 "nbformat": 4,
 "nbformat_minor": 2
}
