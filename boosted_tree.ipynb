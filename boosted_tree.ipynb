{
 "cells": [
  {
   "cell_type": "code",
   "execution_count": 10,
   "metadata": {},
   "outputs": [],
   "source": [
    "import numpy as np\n",
    "from sklearn.ensemble import HistGradientBoostingRegressor\n",
    "from sklearn.metrics import r2_score\n",
    "from data_utils import load_info, create_dataloaders, load_preprocessed_data"
   ]
  },
  {
   "cell_type": "code",
   "execution_count": 11,
   "metadata": {},
   "outputs": [],
   "source": [
    "def extract_data_from_loader(data_loader):\n",
    "    inputs, targets = [], []\n",
    "    for batch_inputs, batch_targets in data_loader:\n",
    "        inputs.append(batch_inputs.numpy())\n",
    "        targets.append(batch_targets.numpy())\n",
    "    inputs = np.vstack(inputs)\n",
    "    targets = np.concatenate(targets)\n",
    "    return inputs, targets"
   ]
  },
  {
   "cell_type": "code",
   "execution_count": 12,
   "metadata": {},
   "outputs": [],
   "source": [
    "input_data, target_data = load_preprocessed_data()\n",
    "firm_info, _ = load_info()\n",
    "train_loader, valid_loader, test_loader, _ = create_dataloaders(\n",
    "    input_data, target_data, firm_info,\n",
    "    train_date='2008-01-01', valid_date='2017-01-01', test_date='2023-01-01', batch_size=3000)"
   ]
  },
  {
   "cell_type": "code",
   "execution_count": 13,
   "metadata": {},
   "outputs": [
    {
     "name": "stdout",
     "output_type": "stream",
     "text": [
      "Input data shape :(576574, 252)\n",
      "Target data shape: (576574, 3)\n",
      "Train loader length: 97\n",
      "Valid loader length: 58\n",
      "Test loader length: 32\n",
      "Train loader: Batch size = 3000, Features = torch.Size([250])\n",
      "Valid loader: Batch size = 3000, Features = torch.Size([250])\n",
      "Test loader: Batch size = 3000, Features = torch.Size([250])\n"
     ]
    }
   ],
   "source": [
    "print(f'Input data shape :{input_data.shape}')\n",
    "print(f'Target data shape: {target_data.shape}')\n",
    "print(f'Train loader length: {len(train_loader)}')\n",
    "print(f'Valid loader length: {len(valid_loader)}')\n",
    "print(f'Test loader length: {len(test_loader)}')\n",
    "\n",
    "first_batch = next(iter(train_loader))\n",
    "first_batch = next(iter(valid_loader))\n",
    "first_batch = next(iter(test_loader))\n",
    "\n",
    "print(f\"Train loader: Batch size = {len(first_batch[0])}, Features = {first_batch[0][0].shape}\")\n",
    "print(f\"Valid loader: Batch size = {len(first_batch[0])}, Features = {first_batch[0][0].shape}\")\n",
    "print(f\"Test loader: Batch size = {len(first_batch[0])}, Features = {first_batch[0][0].shape}\")"
   ]
  },
  {
   "cell_type": "code",
   "execution_count": 14,
   "metadata": {},
   "outputs": [],
   "source": [
    "x_train, y_train = extract_data_from_loader(train_loader)\n",
    "x_valid, y_valid = extract_data_from_loader(valid_loader)\n",
    "x_test, y_test = extract_data_from_loader(test_loader)"
   ]
  },
  {
   "cell_type": "code",
   "execution_count": 16,
   "metadata": {},
   "outputs": [
    {
     "name": "stdout",
     "output_type": "stream",
     "text": [
      "model params: {'max_iter': 500, 'max_depth': 2, 'learning_rate': 0.001, 'verbose': 0, 'random_state': 55}\n",
      "Valid R2_score: -0.0008737264947664691\n",
      "Model Test R2_score: 0.0028772498395432944\n",
      "\n",
      "model params: {'max_iter': 600, 'max_depth': 2, 'learning_rate': 0.001, 'verbose': 0, 'random_state': 55}\n",
      "Valid R2_score: -0.002723092437043162\n",
      "Model Test R2_score: 0.004408893231679145\n",
      "\n",
      "model params: {'max_iter': 700, 'max_depth': 2, 'learning_rate': 0.001, 'verbose': 0, 'random_state': 55}\n",
      "Valid R2_score: -0.005028335060579536\n",
      "Model Test R2_score: 0.005745069852794105\n",
      "\n",
      "model params: {'max_iter': 800, 'max_depth': 2, 'learning_rate': 0.001, 'verbose': 0, 'random_state': 55}\n",
      "Valid R2_score: -0.007905699203820893\n",
      "Model Test R2_score: 0.006731629914078274\n",
      "\n",
      "model params: {'max_iter': 900, 'max_depth': 2, 'learning_rate': 0.001, 'verbose': 0, 'random_state': 55}\n",
      "Valid R2_score: -0.010701818482452774\n",
      "Model Test R2_score: 0.00752796623375962\n",
      "\n",
      "model params: {'max_iter': 1000, 'max_depth': 2, 'learning_rate': 0.001, 'verbose': 0, 'random_state': 55}\n",
      "Valid R2_score: -0.013627234026697632\n",
      "Model Test R2_score: 0.008324896269499615\n",
      "\n"
     ]
    }
   ],
   "source": [
    "params_list = []\n",
    "\n",
    "for max_iter in range(500, 1001, 100):\n",
    "    params = {\n",
    "        'max_iter': max_iter,\n",
    "        'max_depth': 2,\n",
    "        'learning_rate': 0.001,\n",
    "        'verbose': 0,\n",
    "        'random_state': 55\n",
    "    }\n",
    "    params_list.append(params)\n",
    "\n",
    "\n",
    "for params in params_list:\n",
    "    model = HistGradientBoostingRegressor(**params)\n",
    "    model.fit(x_train, y_train)\n",
    " \n",
    "    valid_r2 = r2_score(y_valid, model.predict(x_valid))\n",
    "    test_r2 = r2_score(y_test, model.predict(x_test))\n",
    "    print(f\"model params: {params}\")\n",
    "    print(f\"Valid R2_score: {valid_r2}\")\n",
    "    print(f\"Model Test R2_score: {test_r2}\\n\")"
   ]
  }
 ],
 "metadata": {
  "kernelspec": {
   "display_name": "ml_asset",
   "language": "python",
   "name": "python3"
  },
  "language_info": {
   "codemirror_mode": {
    "name": "ipython",
    "version": 3
   },
   "file_extension": ".py",
   "mimetype": "text/x-python",
   "name": "python",
   "nbconvert_exporter": "python",
   "pygments_lexer": "ipython3",
   "version": "3.12.3"
  }
 },
 "nbformat": 4,
 "nbformat_minor": 2
}
